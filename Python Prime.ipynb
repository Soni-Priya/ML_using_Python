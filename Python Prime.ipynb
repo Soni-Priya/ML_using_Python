{
 "cells": [
  {
   "cell_type": "markdown",
   "id": "f9130cd3",
   "metadata": {},
   "source": [
    "### EX1 : Participant Exercise\n",
    "    \n",
    "       1. Define the variable called age and income, assign values 30 and 50000.0 respectively.\n",
    "       2. Write a print statement using f-string to print the output as following:\n",
    "          \"Age is: 30 Years and Income is: INR 50000.0\"\n",
    "       3. Write an if-else condition\n",
    "               If age is more than 25 and less than 40 years and income is more than 30000.0 than set a variable named                    \"approved\" to True or set yo False."
   ]
  },
  {
   "cell_type": "code",
   "execution_count": 2,
   "id": "2d6ca1dd",
   "metadata": {},
   "outputs": [],
   "source": [
    "age = 30\n",
    "income = 50000.0"
   ]
  },
  {
   "cell_type": "code",
   "execution_count": 3,
   "id": "1175d5ef",
   "metadata": {},
   "outputs": [
    {
     "name": "stdout",
     "output_type": "stream",
     "text": [
      "Age is: 30 Years and Income is: 50000.0\n"
     ]
    }
   ],
   "source": [
    "print(f\"Age is: {age} Years and Income is: {income}\")"
   ]
  },
  {
   "cell_type": "code",
   "execution_count": 7,
   "id": "de119a97",
   "metadata": {},
   "outputs": [
    {
     "name": "stdout",
     "output_type": "stream",
     "text": [
      "True\n"
     ]
    }
   ],
   "source": [
    "if age > 25 and age < 40 and income > 30000.0:\n",
    "    approved = True\n",
    "else:\n",
    "    approved = False\n",
    "    \n",
    "print(approved)"
   ]
  },
  {
   "cell_type": "markdown",
   "id": "73637baf",
   "metadata": {},
   "source": [
    "### EX2 : Participant Exercise\n",
    "      \n",
    "          1. Write a function\n",
    "                 •\tnamed getAgeGroup\n",
    "                 •\twhich takes a paramter age\n",
    "                 •\tthe default value of the age is 25\n",
    "                 •\tit returns the age group as either \"young\" or \"adult\" or 'mid-age\" or \"old\" based on age\n",
    "                          \tif age < 20, then return young\n",
    "                          \tif age >= 20, but < 35 then adult\n",
    "                          \tif age >= 35, but < 55 then mid-age\n",
    "                          \tif age > 55 then old\n",
    "          2. Invoke the function with different ages and test.  "
   ]
  },
  {
   "cell_type": "code",
   "execution_count": 20,
   "id": "7fde20a5",
   "metadata": {},
   "outputs": [
    {
     "name": "stdout",
     "output_type": "stream",
     "text": [
      "Adult\n"
     ]
    }
   ],
   "source": [
    "def getAgeGroup(age = 25):\n",
    "   if age < 20:\n",
    "      print(\"Young\")\n",
    "   elif age >= 20 and age < 35:\n",
    "      print(\"Adult\")\n",
    "   elif age >= 35 and age < 55:\n",
    "      print(\"Mid-age\")\n",
    "   else:\n",
    "      print(\"Old\")\n",
    "            \n",
    "getAgeGroup()"
   ]
  },
  {
   "cell_type": "code",
   "execution_count": 21,
   "id": "fe96408b",
   "metadata": {},
   "outputs": [
    {
     "name": "stdout",
     "output_type": "stream",
     "text": [
      "Young\n"
     ]
    }
   ],
   "source": [
    "getAgeGroup(16)"
   ]
  },
  {
   "cell_type": "code",
   "execution_count": 22,
   "id": "c81f1662",
   "metadata": {},
   "outputs": [
    {
     "name": "stdout",
     "output_type": "stream",
     "text": [
      "Mid-age\n"
     ]
    }
   ],
   "source": [
    "getAgeGroup(47)"
   ]
  },
  {
   "cell_type": "code",
   "execution_count": 23,
   "id": "be6bfb61",
   "metadata": {},
   "outputs": [
    {
     "name": "stdout",
     "output_type": "stream",
     "text": [
      "Old\n"
     ]
    }
   ],
   "source": [
    "getAgeGroup(78)"
   ]
  },
  {
   "cell_type": "code",
   "execution_count": 24,
   "id": "8f283b53",
   "metadata": {},
   "outputs": [
    {
     "name": "stdout",
     "output_type": "stream",
     "text": [
      "Young\n"
     ]
    }
   ],
   "source": [
    "getAgeGroup(5)"
   ]
  },
  {
   "cell_type": "code",
   "execution_count": 25,
   "id": "6a170dfa",
   "metadata": {},
   "outputs": [
    {
     "name": "stdout",
     "output_type": "stream",
     "text": [
      "Adult\n"
     ]
    }
   ],
   "source": [
    "getAgeGroup(33)"
   ]
  },
  {
   "cell_type": "code",
   "execution_count": 26,
   "id": "a2fb8440",
   "metadata": {},
   "outputs": [
    {
     "name": "stdout",
     "output_type": "stream",
     "text": [
      "Adult\n",
      "Old\n",
      "Old\n",
      "Young\n",
      "Adult\n"
     ]
    }
   ],
   "source": [
    "getAgeGroup(25)\n",
    "getAgeGroup(56)\n",
    "getAgeGroup(77)\n",
    "getAgeGroup(5)\n",
    "getAgeGroup(34)"
   ]
  },
  {
   "cell_type": "markdown",
   "id": "adc8ef3e",
   "metadata": {},
   "source": [
    "### EX3 : Participant Exercise\n",
    "\n",
    "      1. Create a list with the following 10 students names:\n",
    "           - Krishnaa J., Jyoti Adhya, C. Haradas, Korravai Rarikh, Saurandhri Vaknis, Sambridhi Holkar, Sita Padhy,                     Ambika Sanyal, Nehal Vadekar, Sarama Upalekar     \n",
    "      2. Create two lists named \"math_scores\" and \"science_scores\"\n",
    "      3. Populate the above two variables with randomly generated numbers between 20 and 90     \n",
    "      4. Both the scores should have exactly 10 items only,. Assume that the names and scores are mapped in the same                 sequence.     \n",
    "      5. Write a function which takes math and science score of each individual returns the total score and grade \n",
    "           - Grade is Pass if both the scores are greater than equal to 50\n",
    "           - Grade is Fail if any one of the scores is less than 50\n",
    "           - The function should return a tuple with total score and grade e.g. (110, \"Pass\")             \n",
    "      6. Iterate through the student names and invoke the above function\n",
    "      7. Store all information in a dictionary with names as keys and results (tuple with total score and grade) as                  values.     \n",
    "      8. Print the dictionary."
   ]
  },
  {
   "cell_type": "code",
   "execution_count": 40,
   "id": "7070e3a1",
   "metadata": {
    "scrolled": true
   },
   "outputs": [
    {
     "name": "stdout",
     "output_type": "stream",
     "text": [
      "Maths :  [83, 48, 86, 62, 79, 72, 75, 26, 55, 56]\n",
      "Science :  [51, 85, 58, 74, 27, 88, 41, 50, 87, 90]\n"
     ]
    },
    {
     "data": {
      "text/plain": [
       "{'Krishnaa J.': (134, 'Pass'),\n",
       " 'Jyoti Adhya': (133, 'Fail'),\n",
       " 'C. Haradas': (144, 'Pass'),\n",
       " 'Korravai Rarikh': (136, 'Pass'),\n",
       " 'Saurandhri Vaknis': (106, 'Fail'),\n",
       " 'Sambridhi Holkar': (160, 'Pass'),\n",
       " 'Sita Padhy': (116, 'Fail'),\n",
       " 'Ambika Sanyal': (76, 'Fail'),\n",
       " 'Nehal Vadekar': (142, 'Pass'),\n",
       " 'Sarama Upalekar': (146, 'Pass')}"
      ]
     },
     "execution_count": 40,
     "metadata": {},
     "output_type": "execute_result"
    }
   ],
   "source": [
    "a=0\n",
    "b=0\n",
    "from random import randint\n",
    "\n",
    "Students_name = ['Krishnaa J.','Jyoti Adhya','C. Haradas','Korravai Rarikh','Saurandhri Vaknis','Sambridhi Holkar','Sita Padhy','Ambika Sanyal','Nehal Vadekar','Sarama Upalekar']\n",
    "\n",
    "math_scores = []\n",
    "while a<10:\n",
    "    math_scores.append(randint(20,90))\n",
    "    a=a+1\n",
    "print(\"Maths : \",math_scores)\n",
    "\n",
    "science_scores = []\n",
    "while b<10:\n",
    "    science_scores.append(randint(20,90))\n",
    "    b=b+1\n",
    "print(\"Science : \",science_scores)\n",
    "\n",
    "Scores = []\n",
    "\n",
    "def getScoreGrade(math_scores,science_scores):\n",
    "    for i in range(0,10):\n",
    "        total = math_scores[i] + science_scores[i]\n",
    "        if math_scores[i] >= 50 and science_scores[i] >= 50:\n",
    "            result = [total,\"Pass\"]\n",
    "            Scores.append(tuple(result))\n",
    "        elif math_scores[i] < 50 or science_scores[i] < 50:\n",
    "            result = [total,\"Fail\"]\n",
    "            Scores.append(tuple(result))\n",
    "        else:\n",
    "            return None\n",
    "    \n",
    "getScoreGrade(math_scores,science_scores)\n",
    "Final_result = dict(zip(Students_name,Scores))\n",
    "Final_result"
   ]
  },
  {
   "cell_type": "markdown",
   "id": "f8c82f20",
   "metadata": {},
   "source": [
    "### EX4 : Participant Exercise\n",
    "\n",
    "1. The variable daily_prices contains information about a stock open and close prices for 10 days\n",
    "2. Calculate the daily gains and create a dictionary which stores the date and daily gains as shown below\n",
    "        [{'Date': '17-05-2016', 'Gain': -0.32},\n",
    "         {'Date': '16-05-2016', 'Gain': 0.33},\n",
    "         {'Date': '13-05-2016', 'Gain': -0.02},\n",
    "         {'Date': '12-05-2016', 'Gain': 0.1},\n",
    "         {'Date': '11-05-2016', 'Gain': -0.33},\n",
    "         {'Date': '10-05-2016', 'Gain': 1.05},\n",
    "         {'Date': '09-05-2016', 'Gain': 0.77},\n",
    "         {'Date': '06-05-2016', 'Gain': -0.89},\n",
    "         {'Date': '05-05-2016', 'Gain': 0.12},\n",
    "         {'Date': '04-05-2016', 'Gain': -0.12}]\n",
    "3. The gain should be calculated as (Close - Open) *100 / Open.\n",
    "4. The gain value should be rounded to 2 decimal places\n",
    "5. Accomplish the above task using both the approaches: List comprehension and map() function\n"
   ]
  },
  {
   "cell_type": "code",
   "execution_count": 1,
   "id": "e7f6b065",
   "metadata": {},
   "outputs": [],
   "source": [
    "daily_prices = [ {'Date': '17-05-2016', 'Open': 1218.0, 'Close': 1214.05005},\n",
    "                 {'Date': '16-05-2016', 'Open': 1210.0, 'Close': 1213.94995},\n",
    "                 {'Date': '13-05-2016', 'Open': 1207.0, 'Close': 1206.69995},\n",
    "                 {'Date': '12-05-2016', 'Open': 1208.94995, 'Close': 1210.19995},\n",
    "                 {'Date': '11-05-2016', 'Open': 1205.0, 'Close': 1201.05005},\n",
    "                 {'Date': '10-05-2016', 'Open': 1200.0, 'Close': 1212.55005},\n",
    "                 {'Date': '09-05-2016', 'Open': 1190.0, 'Close': 1199.1500199999998},\n",
    "                 {'Date': '06-05-2016', 'Open': 1192.0, 'Close': 1181.44995},\n",
    "                 {'Date': '05-05-2016', 'Open': 1191.0, 'Close': 1192.44995},\n",
    "                 {'Date': '04-05-2016', 'Open': 1191.0, 'Close': 1189.55005} ]"
   ]
  },
  {
   "cell_type": "code",
   "execution_count": 7,
   "id": "526d89a9",
   "metadata": {},
   "outputs": [],
   "source": [
    "def dailyGains(i):\n",
    "    gain_dic = {}\n",
    "    gains = round((i['Close'] -i['Open'])*100/ i['Open'],2)\n",
    "    gain_dic['Date'] = i['Date']\n",
    "    gain_dic['Gain'] = gains\n",
    "    return gain_dic"
   ]
  },
  {
   "cell_type": "code",
   "execution_count": 8,
   "id": "562c5cab",
   "metadata": {},
   "outputs": [
    {
     "data": {
      "text/plain": [
       "[{'Date': '17-05-2016', 'Gain': -0.32},\n",
       " {'Date': '16-05-2016', 'Gain': 0.33},\n",
       " {'Date': '13-05-2016', 'Gain': -0.02},\n",
       " {'Date': '12-05-2016', 'Gain': 0.1},\n",
       " {'Date': '11-05-2016', 'Gain': -0.33},\n",
       " {'Date': '10-05-2016', 'Gain': 1.05},\n",
       " {'Date': '09-05-2016', 'Gain': 0.77},\n",
       " {'Date': '06-05-2016', 'Gain': -0.89},\n",
       " {'Date': '05-05-2016', 'Gain': 0.12},\n",
       " {'Date': '04-05-2016', 'Gain': -0.12}]"
      ]
     },
     "execution_count": 8,
     "metadata": {},
     "output_type": "execute_result"
    }
   ],
   "source": [
    "list1 = [dailyGains(x) for x in daily_prices]\n",
    "list1"
   ]
  },
  {
   "cell_type": "code",
   "execution_count": 11,
   "id": "9ea7dca7",
   "metadata": {},
   "outputs": [
    {
     "data": {
      "text/plain": [
       "[{'Date': '17-05-2016', 'Gain': -0.32},\n",
       " {'Date': '16-05-2016', 'Gain': 0.33},\n",
       " {'Date': '13-05-2016', 'Gain': -0.02},\n",
       " {'Date': '12-05-2016', 'Gain': 0.1},\n",
       " {'Date': '11-05-2016', 'Gain': -0.33},\n",
       " {'Date': '10-05-2016', 'Gain': 1.05},\n",
       " {'Date': '09-05-2016', 'Gain': 0.77},\n",
       " {'Date': '06-05-2016', 'Gain': -0.89},\n",
       " {'Date': '05-05-2016', 'Gain': 0.12},\n",
       " {'Date': '04-05-2016', 'Gain': -0.12}]"
      ]
     },
     "execution_count": 11,
     "metadata": {},
     "output_type": "execute_result"
    }
   ],
   "source": [
    "list2 = map(dailyGains,daily_prices)\n",
    "list(list2)"
   ]
  }
 ],
 "metadata": {
  "kernelspec": {
   "display_name": "Python 3 (ipykernel)",
   "language": "python",
   "name": "python3"
  },
  "language_info": {
   "codemirror_mode": {
    "name": "ipython",
    "version": 3
   },
   "file_extension": ".py",
   "mimetype": "text/x-python",
   "name": "python",
   "nbconvert_exporter": "python",
   "pygments_lexer": "ipython3",
   "version": "3.9.13"
  }
 },
 "nbformat": 4,
 "nbformat_minor": 5
}

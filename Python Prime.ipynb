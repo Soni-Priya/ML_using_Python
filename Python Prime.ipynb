{
 "cells": [
  {
   "cell_type": "markdown",
   "id": "f9130cd3",
   "metadata": {},
   "source": [
    "### EX1 : Participant Exercise\n",
    "    \n",
    "       1. Define the variable called age and income, assign values 30 and 50000.0 respectively.\n",
    "       2. Write a print statement using f-string to print the output as following:\n",
    "          \"Age is: 30 Years and Income is: INR 50000.0\"\n",
    "       3. Write an if-else condition\n",
    "               If age is more than 25 and less than 40 years and income is more than 30000.0 than set a variable named                    \"approved\" to True or set yo False."
   ]
  },
  {
   "cell_type": "code",
   "execution_count": 2,
   "id": "2d6ca1dd",
   "metadata": {},
   "outputs": [],
   "source": [
    "age = 30\n",
    "income = 50000.0"
   ]
  },
  {
   "cell_type": "code",
   "execution_count": 3,
   "id": "1175d5ef",
   "metadata": {},
   "outputs": [
    {
     "name": "stdout",
     "output_type": "stream",
     "text": [
      "Age is: 30 Years and Income is: 50000.0\n"
     ]
    }
   ],
   "source": [
    "print(f\"Age is: {age} Years and Income is: {income}\")"
   ]
  },
  {
   "cell_type": "code",
   "execution_count": 7,
   "id": "de119a97",
   "metadata": {},
   "outputs": [
    {
     "name": "stdout",
     "output_type": "stream",
     "text": [
      "True\n"
     ]
    }
   ],
   "source": [
    "if age > 25 and age < 40 and income > 30000.0:\n",
    "    approved = True\n",
    "else:\n",
    "    approved = False\n",
    "    \n",
    "print(approved)"
   ]
  },
  {
   "cell_type": "markdown",
   "id": "73637baf",
   "metadata": {},
   "source": [
    "### EX2 : Participant Exercise\n",
    "      \n",
    "          1. Write a function\n",
    "                 •\tnamed getAgeGroup\n",
    "                 •\twhich takes a paramter age\n",
    "                 •\tthe default value of the age is 25\n",
    "                 •\tit returns the age group as either \"young\" or \"adult\" or 'mid-age\" or \"old\" based on age\n",
    "                          \tif age < 20, then return young\n",
    "                          \tif age >= 20, but < 35 then adult\n",
    "                          \tif age >= 35, but < 55 then mid-age\n",
    "                          \tif age > 55 then old\n",
    "          2. Invoke the function with different ages and test.  "
   ]
  },
  {
   "cell_type": "code",
   "execution_count": 20,
   "id": "7fde20a5",
   "metadata": {},
   "outputs": [
    {
     "name": "stdout",
     "output_type": "stream",
     "text": [
      "Adult\n"
     ]
    }
   ],
   "source": [
    "def getAgeGroup(age = 25):\n",
    "   if age < 20:\n",
    "      print(\"Young\")\n",
    "   elif age >= 20 and age < 35:\n",
    "      print(\"Adult\")\n",
    "   elif age >= 35 and age < 55:\n",
    "      print(\"Mid-age\")\n",
    "   else:\n",
    "      print(\"Old\")\n",
    "            \n",
    "getAgeGroup()"
   ]
  },
  {
   "cell_type": "code",
   "execution_count": 21,
   "id": "fe96408b",
   "metadata": {},
   "outputs": [
    {
     "name": "stdout",
     "output_type": "stream",
     "text": [
      "Young\n"
     ]
    }
   ],
   "source": [
    "getAgeGroup(16)"
   ]
  },
  {
   "cell_type": "code",
   "execution_count": 22,
   "id": "c81f1662",
   "metadata": {},
   "outputs": [
    {
     "name": "stdout",
     "output_type": "stream",
     "text": [
      "Mid-age\n"
     ]
    }
   ],
   "source": [
    "getAgeGroup(47)"
   ]
  },
  {
   "cell_type": "code",
   "execution_count": 23,
   "id": "be6bfb61",
   "metadata": {},
   "outputs": [
    {
     "name": "stdout",
     "output_type": "stream",
     "text": [
      "Old\n"
     ]
    }
   ],
   "source": [
    "getAgeGroup(78)"
   ]
  },
  {
   "cell_type": "code",
   "execution_count": 24,
   "id": "8f283b53",
   "metadata": {},
   "outputs": [
    {
     "name": "stdout",
     "output_type": "stream",
     "text": [
      "Young\n"
     ]
    }
   ],
   "source": [
    "getAgeGroup(5)"
   ]
  },
  {
   "cell_type": "code",
   "execution_count": 25,
   "id": "6a170dfa",
   "metadata": {},
   "outputs": [
    {
     "name": "stdout",
     "output_type": "stream",
     "text": [
      "Adult\n"
     ]
    }
   ],
   "source": [
    "getAgeGroup(33)"
   ]
  }
 ],
 "metadata": {
  "celltoolbar": "Raw Cell Format",
  "kernelspec": {
   "display_name": "Python 3 (ipykernel)",
   "language": "python",
   "name": "python3"
  },
  "language_info": {
   "codemirror_mode": {
    "name": "ipython",
    "version": 3
   },
   "file_extension": ".py",
   "mimetype": "text/x-python",
   "name": "python",
   "nbconvert_exporter": "python",
   "pygments_lexer": "ipython3",
   "version": "3.9.13"
  }
 },
 "nbformat": 4,
 "nbformat_minor": 5
}
